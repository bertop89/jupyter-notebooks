{
 "cells": [
  {
   "cell_type": "markdown",
   "metadata": {},
   "source": [
    "https://www.kaggle.com/c/santander-product-recommendation\n",
    "\n",
    "# Imports"
   ]
  },
  {
   "cell_type": "code",
   "execution_count": null,
   "metadata": {
    "collapsed": false
   },
   "outputs": [],
   "source": [
    "import pandas as pd\n",
    "import numpy as np\n",
    "import csv\n",
    "import timeit\n",
    "from sklearn import preprocessing, decomposition\n",
    "from sklearn.cross_validation import cross_val_score, StratifiedKFold\n",
    "from sklearn.grid_search import GridSearchCV\n",
    "import xgboost as xgb"
   ]
  },
  {
   "cell_type": "markdown",
   "metadata": {},
   "source": [
    "# Feature Engineering\n",
    "\n",
    "Uses the finding by breakfastpirate in which the training is performed only with the accounts that added a new product in June 2015. This is because of the seasonality effects and the fact that we are predicting only **new** products added during June 2016. \n",
    "\n",
    "The multiple, binary dependant variables were collapsed into a single multi-value dependant variable and splitted into several rows for each of the new products added.\n",
    "\n",
    "Also, a lag 5-2 (January - April 2015) was used to include the products and features present over these months."
   ]
  },
  {
   "cell_type": "code",
   "execution_count": null,
   "metadata": {
    "collapsed": false
   },
   "outputs": [],
   "source": [
    "mapping_dict = {\n",
    "'ind_empleado'  : {-99:0, 'N':1, 'B':2, 'F':3, 'A':4, 'S':5},\n",
    "'sexo'          : {'V':0, 'H':1, -99:2},\n",
    "'ind_nuevo'     : {'0':0, '1':1, -99:2},\n",
    "'indrel'        : {'1':0, '99':1, -99:2},\n",
    "'indrel_1mes'   : {-99:0, '1.0':1, '1':1, '2.0':2, '2':2, '3.0':3, '3':3, '4.0':4, '4':4, 'P':5},\n",
    "'tiprel_1mes'   : {-99:0, 'I':1, 'A':2, 'P':3, 'R':4, 'N':5},\n",
    "'indresi'       : {-99:0, 'S':1, 'N':2},\n",
    "'indext'        : {-99:0, 'S':1, 'N':2},\n",
    "'conyuemp'      : {-99:0, 'S':1, 'N':2},\n",
    "'indfall'       : {-99:0, 'S':1, 'N':2},\n",
    "'tipodom'       : {-99:0, '1':1},\n",
    "'ind_actividad_cliente' : {'0':0, '1':1, -99:2},\n",
    "'segmento'      : {'02 - PARTICULARES':0, '03 - UNIVERSITARIO':1, '01 - TOP':2, -99:2},\n",
    "'pais_residencia' : {'LV': 102, 'BE': 12, 'BG': 50, 'BA': 61, 'BM': 117, 'BO': 62, 'JP': 82, 'JM': 116, 'BR': 17, 'BY': 64, 'BZ': 113, 'RU': 43, 'RS': 89, 'RO': 41, 'GW': 99, 'GT': 44, 'GR': 39, 'GQ': 73, 'GE': 78, 'GB': 9, 'GA': 45, 'GN': 98, 'GM': 110, 'GI': 96, 'GH': 88, 'OM': 100, 'HR': 67, 'HU': 106, 'HK': 34, 'HN': 22, 'AD': 35, 'PR': 40, 'PT': 26, 'PY': 51, 'PA': 60, 'PE': 20, 'PK': 84, 'PH': 91, 'PL': 30, 'EE': 52, 'EG': 74, 'ZA': 75, 'EC': 19, 'AL': 25, 'VN': 90, 'ET': 54, 'ZW': 114, 'ES': 0, 'MD': 68, 'UY': 77, 'MM': 94, 'ML': 104, 'US': 15, 'MT': 118, 'MR': 48, 'UA': 49, 'MX': 16, 'IL': 42, 'FR': 8, 'MA': 38, 'FI': 23, 'NI': 33, 'NL': 7, 'NO': 46, 'NG': 83, 'NZ': 93, 'CI': 57, 'CH': 3, 'CO': 21, 'CN': 28, 'CM': 55, 'CL': 4, 'CA': 2, 'CG': 101, 'CF': 109, 'CD': 112, 'CZ': 36, 'CR': 32, 'CU': 72, 'KE': 65, 'KH': 95, 'SV': 53, 'SK': 69, 'KR': 87, 'KW': 92, 'SN': 47, 'SL': 97, 'KZ': 111, 'SA': 56, 'SG': 66, 'SE': 24, 'DO': 11, 'DJ': 115, 'DK': 76, 'DE': 10, 'DZ': 80, 'MK': 105, -99: 1, 'LB': 81, 'TW': 29, 'TR': 70, 'TN': 85, 'LT': 103, 'LU': 59, 'TH': 79, 'TG': 86, 'LY': 108, 'AE': 37, 'VE': 14, 'IS': 107, 'IT': 18, 'AO': 71, 'AR': 13, 'AU': 63, 'AT': 6, 'IN': 31, 'IE': 5, 'QA': 58, 'MZ': 27},\n",
    "'canal_entrada' : {'013': 49, 'KHP': 160, 'KHQ': 157, 'KHR': 161, 'KHS': 162, 'KHK': 10, 'KHL': 0, 'KHM': 12, 'KHN': 21, 'KHO': 13, 'KHA': 22, 'KHC': 9, 'KHD': 2, 'KHE': 1, 'KHF': 19, '025': 159, 'KAC': 57, 'KAB': 28, 'KAA': 39, 'KAG': 26, 'KAF': 23, 'KAE': 30, 'KAD': 16, 'KAK': 51, 'KAJ': 41, 'KAI': 35, 'KAH': 31, 'KAO': 94, 'KAN': 110, 'KAM': 107, 'KAL': 74, 'KAS': 70, 'KAR': 32, 'KAQ': 37, 'KAP': 46, 'KAW': 76, 'KAV': 139, 'KAU': 142, 'KAT': 5, 'KAZ': 7, 'KAY': 54, 'KBJ': 133, 'KBH': 90, 'KBN': 122, 'KBO': 64, 'KBL': 88, 'KBM': 135, 'KBB': 131, 'KBF': 102, 'KBG': 17, 'KBD': 109, 'KBE': 119, 'KBZ': 67, 'KBX': 116, 'KBY': 111, 'KBR': 101, 'KBS': 118, 'KBP': 121, 'KBQ': 62, 'KBV': 100, 'KBW': 114, 'KBU': 55, 'KCE': 86, 'KCD': 85, 'KCG': 59, 'KCF': 105, 'KCA': 73, 'KCC': 29, 'KCB': 78, 'KCM': 82, 'KCL': 53, 'KCO': 104, 'KCN': 81, 'KCI': 65, 'KCH': 84, 'KCK': 52, 'KCJ': 156, 'KCU': 115, 'KCT': 112, 'KCV': 106, 'KCQ': 154, 'KCP': 129, 'KCS': 77, 'KCR': 153, 'KCX': 120, 'RED': 8, 'KDL': 158, 'KDM': 130, 'KDN': 151, 'KDO': 60, 'KDH': 14, 'KDI': 150, 'KDD': 113, 'KDE': 47, 'KDF': 127, 'KDG': 126, 'KDA': 63, 'KDB': 117, 'KDC': 75, 'KDX': 69, 'KDY': 61, 'KDZ': 99, 'KDT': 58, 'KDU': 79, 'KDV': 91, 'KDW': 132, 'KDP': 103, 'KDQ': 80, 'KDR': 56, 'KDS': 124, 'K00': 50, 'KEO': 96, 'KEN': 137, 'KEM': 155, 'KEL': 125, 'KEK': 145, 'KEJ': 95, 'KEI': 97, 'KEH': 15, 'KEG': 136, 'KEF': 128, 'KEE': 152, 'KED': 143, 'KEC': 66, 'KEB': 123, 'KEA': 89, 'KEZ': 108, 'KEY': 93, 'KEW': 98, 'KEV': 87, 'KEU': 72, 'KES': 68, 'KEQ': 138, -99: 6, 'KFV': 48, 'KFT': 92, 'KFU': 36, 'KFR': 144, 'KFS': 38, 'KFP': 40, 'KFF': 45, 'KFG': 27, 'KFD': 25, 'KFE': 148, 'KFB': 146, 'KFC': 4, 'KFA': 3, 'KFN': 42, 'KFL': 34, 'KFM': 141, 'KFJ': 33, 'KFK': 20, 'KFH': 140, 'KFI': 134, '007': 71, '004': 83, 'KGU': 149, 'KGW': 147, 'KGV': 43, 'KGY': 44, 'KGX': 24, 'KGC': 18, 'KGN': 11}\n",
    "}\n",
    "cat_cols = list(mapping_dict.keys())\n",
    "\n",
    "target_cols = ['ind_ahor_fin_ult1','ind_aval_fin_ult1','ind_cco_fin_ult1','ind_cder_fin_ult1','ind_cno_fin_ult1','ind_ctju_fin_ult1','ind_ctma_fin_ult1','ind_ctop_fin_ult1','ind_ctpp_fin_ult1','ind_deco_fin_ult1','ind_deme_fin_ult1','ind_dela_fin_ult1','ind_ecue_fin_ult1','ind_fond_fin_ult1','ind_hip_fin_ult1','ind_plan_fin_ult1','ind_pres_fin_ult1','ind_reca_fin_ult1','ind_tjcr_fin_ult1','ind_valo_fin_ult1','ind_viv_fin_ult1','ind_nomina_ult1','ind_nom_pens_ult1','ind_recibo_ult1']\n",
    "target_cols = target_cols[2:]\n",
    "\n",
    "def getTarget(row):\n",
    "    tlist = []\n",
    "    for col in target_cols:\n",
    "        if row[col].strip() in ['', 'NA']:\n",
    "            target = 0\n",
    "        else:\n",
    "            target = int(float(row[col]))\n",
    "        tlist.append(target)\n",
    "    return tlist\n",
    "\n",
    "def getIndex(row, col):\n",
    "    val = row[col].strip()\n",
    "    if val not in ['','NA']:\n",
    "        ind = mapping_dict[col][val]\n",
    "    else:\n",
    "        ind = mapping_dict[col][-99]\n",
    "    return ind\n",
    "\n",
    "def getAge(row):\n",
    "    mean_age = 40.\n",
    "    min_age = 20.\n",
    "    max_age = 90.\n",
    "    range_age = max_age - min_age\n",
    "    age = row['age'].strip()\n",
    "    if age == 'NA' or age == '':\n",
    "        age = mean_age\n",
    "    else:\n",
    "        age = float(age)\n",
    "        if age < min_age:\n",
    "            age = min_age\n",
    "        elif age > max_age:\n",
    "            age = max_age\n",
    "    return round( (age - min_age) / range_age, 4)\n",
    "\n",
    "def getCustSeniority(row):\n",
    "    min_value = 0.\n",
    "    max_value = 256.\n",
    "    range_value = max_value - min_value\n",
    "    missing_value = 0.\n",
    "    cust_seniority = row['antiguedad'].strip()\n",
    "    if cust_seniority == 'NA' or cust_seniority == '':\n",
    "        cust_seniority = missing_value\n",
    "    else:\n",
    "        cust_seniority = float(cust_seniority)\n",
    "        if cust_seniority < min_value:\n",
    "            cust_seniority = min_value\n",
    "        elif cust_seniority > max_value:\n",
    "            cust_seniority = max_value\n",
    "    return round((cust_seniority-min_value) / range_value, 4)\n",
    "\n",
    "def getRent(row):\n",
    "    min_value = 0.\n",
    "    max_value = 1500000.\n",
    "    range_value = max_value - min_value\n",
    "    missing_value = 101850.\n",
    "    rent = row['renta'].strip()\n",
    "    if rent == 'NA' or rent == '':\n",
    "        rent = missing_value\n",
    "    else:\n",
    "        rent = float(rent)\n",
    "        if rent < min_value:\n",
    "            rent = min_value\n",
    "        elif rent > max_value:\n",
    "            rent = max_value\n",
    "    return round((rent-min_value) / range_value, 6)\n",
    "\n",
    "def getDate(row):\n",
    "    month = int(row['fecha_dato'][5:7])\n",
    "    year = int(row['fecha_dato'][0:4]) - 2015\n",
    "    month_int = (month + 12 * year)\n",
    "    return [month, year, month_int]\n",
    "\n",
    "def processData(in_file_name, cust_dict, lag_dict):\n",
    "    x_vars_list = []\n",
    "    y_vars_list = []\n",
    "    total_f = 112\n",
    "    for row in csv.DictReader(in_file_name):\n",
    "        # uses the four months specified by breakfastpirate and those for the lagged features #\n",
    "        if row['fecha_dato'] not in ['2015-03-28','2015-04-28', '2015-02-28','2015-01-28','2015-05-28', '2015-06-28',\n",
    "                                     '2016-03-28','2016-04-28', '2016-02-28','2016-01-28', '2016-05-28', '2016-06-28']:\n",
    "            continue\n",
    "\n",
    "        cust_id = int(row['ncodpers'])\n",
    "        \n",
    "        # stores products owned by that customer for the previous month in order to compare\n",
    "        if row['fecha_dato'] in ['2015-05-28', '2016-05-28']:    \n",
    "            target_list = getTarget(row)\n",
    "            cust_dict[cust_id] =  target_list[:]\n",
    "            continue\n",
    "        \n",
    "        lag_features = []\n",
    "        # stores lagged features and target for the previous 4 months\n",
    "        if row['fecha_dato'] in ['2015-01-28', '2016-01-28',\n",
    "                                 '2015-03-28','2016-03-28', \n",
    "                                 '2015-04-28','2016-04-28', \n",
    "                                 '2015-02-28','2016-02-28']:    \n",
    "            target_list = getTarget(row)\n",
    "            lag_features.append( getAge(row) )\n",
    "            lag_features.append( getIndex(row, 'ind_actividad_cliente'))\n",
    "            lag_features.append( getIndex(row, 'segmento'))\n",
    "            lag_features.append( getIndex(row, 'tiprel_1mes'))\n",
    "            lag_features.append( getRent(row))\n",
    "            lag_features.append( getCustSeniority(row))\n",
    "            if cust_id in lag_dict:\n",
    "                lag_dict[cust_id] =  lag_dict[cust_id] + target_list[:] + lag_features\n",
    "            else:\n",
    "                lag_dict[cust_id] =  target_list[:] + lag_features\n",
    "            continue\n",
    "\n",
    "        # basic feature engineering\n",
    "        x_vars = []\n",
    "        for col in cat_cols:\n",
    "            x_vars.append( getIndex(row, col) )\n",
    "        x_vars.append( getAge(row) )\n",
    "        x_vars.append( getCustSeniority(row) )\n",
    "        x_vars.append( getRent(row) )\n",
    "        x_vars = x_vars + getDate(row)\n",
    "\n",
    "        # month to predict\n",
    "        if row['fecha_dato'] == '2016-06-28':\n",
    "            prev_target_list = cust_dict.get(cust_id, [0]*22)\n",
    "            lag_list = lag_dict.get(cust_id, [0]*total_f)\n",
    "            lag_list = (lag_list + [0] * total_f)[:total_f]\n",
    "            x_vars_list.append(x_vars + lag_list + prev_target_list)\n",
    "        # month to train\n",
    "        elif row['fecha_dato'] == '2015-06-28':\n",
    "            lag_list = lag_dict.get(cust_id, [0]*total_f)\n",
    "            lag_list = (lag_list + [0] * total_f)[:total_f]\n",
    "            prev_target_list = cust_dict.get(cust_id, [0]*22)\n",
    "            target_list = getTarget(row)\n",
    "            # adds a row for each of the new products added\n",
    "            new_products = [max(x1 - x2,0) for (x1, x2) in zip(target_list, prev_target_list)]\n",
    "            if sum(new_products) > 0:\n",
    "                for ind, prod in enumerate(new_products):\n",
    "                    if prod>0:\n",
    "                        assert len(prev_target_list) == 22\n",
    "                        x_vars_list.append(x_vars+lag_list+prev_target_list)\n",
    "                        y_vars_list.append(ind)\n",
    "\n",
    "    return x_vars_list, y_vars_list, cust_dict, lag_dict"
   ]
  },
  {
   "cell_type": "markdown",
   "metadata": {},
   "source": [
    "# Train and Test data loading"
   ]
  },
  {
   "cell_type": "code",
   "execution_count": null,
   "metadata": {
    "collapsed": false
   },
   "outputs": [],
   "source": [
    "train_file =  open(\"train_ver2.csv\")\n",
    "X_train, Y_train, cust_dict, lag_dict = processData(train_file, {}, {})\n",
    "train_file.close()\n",
    "\n",
    "test_file =  open(\"test_ver2.csv\")\n",
    "X_test, Y_test, cust_dict, lag_dict = processData(test_file, cust_dict, lag_dict)\n",
    "test_file.close()\n",
    "\n",
    "X_train = np.array(X_train)\n",
    "Y_train = np.array(Y_train)"
   ]
  },
  {
   "cell_type": "markdown",
   "metadata": {},
   "source": [
    "# XGBoost "
   ]
  },
  {
   "cell_type": "markdown",
   "metadata": {},
   "source": [
    "## Hyperparameter optimization\n",
    "\n",
    "An example of a Grid Search using CV with equally distributed folds."
   ]
  },
  {
   "cell_type": "code",
   "execution_count": null,
   "metadata": {
    "collapsed": false
   },
   "outputs": [],
   "source": [
    "model = xgb.XGBClassifier(base_score=0.5, colsample_bytree=0.9, gamma=0.0,\n",
    "       learning_rate=0.01, max_depth=5,\n",
    "       min_child_weight=3, missing=None, n_estimators=5, nthread=-1,\n",
    "       objective='multi:softprob', seed=0, silent=0, subsample=0.85, max_delta_step=0)\n",
    "\n",
    "n_estimators = [50, 100, 200]\n",
    "learning_rate = [0.001, 0.01, 0.1]\n",
    "param_grid = dict(learning_rate=learning_rate, n_estimators=n_estimators)\n",
    "kfold = StratifiedKFold(Y_train, n_folds=5, shuffle=True, random_state=7)\n",
    "clf = GridSearchCV(model, param_grid, n_jobs=-1, cv=kfold, verbose=3)\n",
    "clf.fit(X_train, Y_train)\n",
    "print \"Best params \"+str(clf.best_params_)\n",
    "print \"Best score \"+str(clf.best_score_)"
   ]
  },
  {
   "cell_type": "markdown",
   "metadata": {},
   "source": [
    "## Training final model\n",
    "\n",
    "Uses the previously optimized hyperparameters to train a final XGBoost model."
   ]
  },
  {
   "cell_type": "code",
   "execution_count": null,
   "metadata": {
    "collapsed": false
   },
   "outputs": [],
   "source": [
    "param = {'max_depth':5, \n",
    "         'eta':0.1, \n",
    "         'silent':0,\n",
    "         'objective':'multi:softprob',\n",
    "         'eval_metric':'mlogloss',\n",
    "         'num_class': 22,\n",
    "         'min_child_weight': 3,\n",
    "         'subsample': 0.85,\n",
    "         'colsample_bytree': 0.9,\n",
    "         'seed': 0,\n",
    "         'gamma': 0.0\n",
    "        }\n",
    "num_rounds = 100\n",
    "\n",
    "xgtrain = xgb.DMatrix(X_train, label=Y_train)\n",
    "model = xgb.train(param, xgtrain, num_rounds)"
   ]
  },
  {
   "cell_type": "markdown",
   "metadata": {},
   "source": [
    "## Predicting test set\n",
    "\n",
    "Takes the 7 products with the highest probability output by the model as final prediction for each customer. Creates a file with the expected format output."
   ]
  },
  {
   "cell_type": "code",
   "execution_count": null,
   "metadata": {
    "collapsed": false
   },
   "outputs": [],
   "source": [
    "xgtest = xgb.DMatrix(X_test)\n",
    "preds = model.predict(xgtest)\n",
    "preds = np.argsort(preds, axis=1)\n",
    "preds = np.fliplr(preds)[:,:7]\n",
    "\n",
    "test_id = np.array(pd.read_csv(\"test_ver2.csv\", usecols=['ncodpers'])['ncodpers'])\n",
    "final_preds = []\n",
    "for p in preds:\n",
    "    targets = []\n",
    "    for t in p:\n",
    "        targets.append(target_cols[t])\n",
    "    final_preds.append(\" \".join(targets))\n",
    "out_df = pd.DataFrame({'ncodpers':test_id, 'added_products':final_preds})\n",
    "out_df.to_csv('submission-lag5.csv', index=False)"
   ]
  },
  {
   "cell_type": "markdown",
   "metadata": {},
   "source": [
    "# Neural Networks with Keras"
   ]
  },
  {
   "cell_type": "markdown",
   "metadata": {},
   "source": [
    "## Hyperparameter optimization"
   ]
  },
  {
   "cell_type": "code",
   "execution_count": null,
   "metadata": {
    "collapsed": false
   },
   "outputs": [],
   "source": [
    "from keras.wrappers.scikit_learn import KerasClassifier\n",
    "from sklearn.grid_search import GridSearchCV\n",
    "from keras.constraints import maxnorm\n",
    "from keras.models import Sequential\n",
    "from keras.layers import Dense, Dropout\n",
    "\n",
    "def create_model(neurons):\n",
    "    # create model\n",
    "    model = Sequential()\n",
    "    model.add(Dense(45, input_dim=82, init='normal', activation='linear', W_constraint=maxnorm(3)))\n",
    "    model.add(Dropout(0.1))\n",
    "    model.add(Dense(8, init='normal', activation='relu'))\n",
    "    model.add(Dense(22, init='normal', activation='sigmoid'))\n",
    "    \n",
    "    # Compile model\n",
    "    model.compile(loss='sparse_categorical_crossentropy', optimizer='adam', metrics=['accuracy'])\n",
    "    return model\n",
    "\n",
    "model = KerasClassifier(build_fn=create_model, verbose=0, batch_size = 10, nb_epoch = 10)\n",
    "neurons = [45]\n",
    "param_grid = dict(neurons=neurons)\n",
    "grid = GridSearchCV(estimator=model, param_grid=param_grid, n_jobs=-1)\n",
    "grid_result = grid.fit(X_train, Y_train)\n",
    "print(\"Best: %f using %s\" % (grid_result.best_score_, grid_result.best_params_))"
   ]
  },
  {
   "cell_type": "markdown",
   "metadata": {},
   "source": [
    "## Training and prediction"
   ]
  },
  {
   "cell_type": "code",
   "execution_count": null,
   "metadata": {
    "collapsed": false
   },
   "outputs": [],
   "source": [
    "import tensorflow\n",
    "from keras.models import Sequential\n",
    "from keras.layers import Dense, Dropout\n",
    "from keras.constraints import maxnorm\n",
    "\n",
    "# create model\n",
    "model = Sequential()\n",
    "model.add(Dense(45, input_dim=82, init='normal', activation='linear', W_constraint=maxnorm(3)))\n",
    "model.add(Dropout(0.1))\n",
    "model.add(Dense(8, init='normal', activation='relu'))\n",
    "model.add(Dense(22, init='normal', activation='sigmoid'))\n",
    "\n",
    "# Compile model\n",
    "model.compile(loss='sparse_categorical_crossentropy', optimizer='adam', metrics=['accuracy'])\n",
    "# Fit the model\n",
    "model.fit(X_train, Y_train, nb_epoch=50, batch_size=10, verbose=0)\n",
    "preds = model.predict(X_test)\n",
    "\n",
    "preds = np.argsort(preds, axis=1)\n",
    "preds = np.fliplr(preds)[:,:7]"
   ]
  }
 ],
 "metadata": {
  "anaconda-cloud": {},
  "kernelspec": {
   "display_name": "Python [conda root]",
   "language": "python",
   "name": "conda-root-py"
  },
  "language_info": {
   "codemirror_mode": {
    "name": "ipython",
    "version": 2
   },
   "file_extension": ".py",
   "mimetype": "text/x-python",
   "name": "python",
   "nbconvert_exporter": "python",
   "pygments_lexer": "ipython2",
   "version": "2.7.12"
  }
 },
 "nbformat": 4,
 "nbformat_minor": 1
}
