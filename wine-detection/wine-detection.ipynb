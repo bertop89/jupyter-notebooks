{
 "cells": [
  {
   "cell_type": "markdown",
   "metadata": {},
   "source": [
    "## Wines country of origin prediction\n",
    "\n",
    "In this notebook, we will try to predict the country of origin of different wines based on their descriptions. This is meant to be an excercise for Lesson 5 of fast.ai Deep Learning course."
   ]
  },
  {
   "cell_type": "code",
   "execution_count": 20,
   "metadata": {},
   "outputs": [],
   "source": [
    "import pandas as pd\n",
    "import nltk\n",
    "import re\n",
    "import os\n",
    "import pickle\n",
    "import numpy as np\n",
    "from keras.models import Sequential\n",
    "from keras.layers import Flatten, Dense, Dropout, Embedding, Convolution1D, MaxPooling1D, LSTM, GRU, BatchNormalization\n",
    "from keras.optimizers import Adam\n",
    "from keras.regularizers import l2\n",
    "from sklearn.metrics import confusion_matrix\n",
    "import matplotlib.pyplot as plt\n",
    "import itertools"
   ]
  },
  {
   "cell_type": "markdown",
   "metadata": {},
   "source": [
    "## Data preprocessing\n",
    "\n",
    "The dataset was obtained from Wine Reviews dataset published on Kaggle (https://www.kaggle.com/zynicide/wine-reviews). It was downloaded and extracted to a `data` folder."
   ]
  },
  {
   "cell_type": "code",
   "execution_count": 2,
   "metadata": {
    "collapsed": true
   },
   "outputs": [],
   "source": [
    "df = pd.read_csv('data/winemag-data_first150k.csv')"
   ]
  },
  {
   "cell_type": "code",
   "execution_count": 3,
   "metadata": {
    "scrolled": true
   },
   "outputs": [
    {
     "data": {
      "text/plain": [
       "US                        62397\n",
       "Italy                     23478\n",
       "France                    21098\n",
       "Spain                      8268\n",
       "Chile                      5816\n",
       "Argentina                  5631\n",
       "Portugal                   5322\n",
       "Australia                  4957\n",
       "New Zealand                3320\n",
       "Austria                    3057\n",
       "Germany                    2452\n",
       "South Africa               2258\n",
       "Greece                      884\n",
       "Israel                      630\n",
       "Hungary                     231\n",
       "Canada                      196\n",
       "Romania                     139\n",
       "Slovenia                     94\n",
       "Uruguay                      92\n",
       "Croatia                      89\n",
       "Bulgaria                     77\n",
       "Moldova                      71\n",
       "Mexico                       63\n",
       "Turkey                       52\n",
       "Georgia                      43\n",
       "Lebanon                      37\n",
       "Cyprus                       31\n",
       "Brazil                       25\n",
       "Macedonia                    16\n",
       "Serbia                       14\n",
       "Morocco                      12\n",
       "Luxembourg                    9\n",
       "England                       9\n",
       "India                         8\n",
       "Lithuania                     8\n",
       "Czech Republic                6\n",
       "Ukraine                       5\n",
       "Switzerland                   4\n",
       "Bosnia and Herzegovina        4\n",
       "South Korea                   4\n",
       "Slovakia                      3\n",
       "Egypt                         3\n",
       "China                         3\n",
       "Albania                       2\n",
       "Tunisia                       2\n",
       "Japan                         2\n",
       "Montenegro                    2\n",
       "US-France                     1\n",
       "Name: country, dtype: int64"
      ]
     },
     "execution_count": 3,
     "metadata": {},
     "output_type": "execute_result"
    }
   ],
   "source": [
    "df.country.value_counts()"
   ]
  },
  {
   "cell_type": "markdown",
   "metadata": {},
   "source": [
    "Since there are way too many different countries of origin, we will focus on the predictions for the top 10 most common wines of the dataset."
   ]
  },
  {
   "cell_type": "code",
   "execution_count": 4,
   "metadata": {
    "collapsed": true
   },
   "outputs": [],
   "source": [
    "top10_wines = df.country.value_counts()[:10].index"
   ]
  },
  {
   "cell_type": "code",
   "execution_count": 5,
   "metadata": {
    "collapsed": true
   },
   "outputs": [],
   "source": [
    "df_top10 = df[df.country.isin(top10_wines)]"
   ]
  },
  {
   "cell_type": "code",
   "execution_count": 6,
   "metadata": {},
   "outputs": [
    {
     "data": {
      "text/plain": [
       "143344"
      ]
     },
     "execution_count": 6,
     "metadata": {},
     "output_type": "execute_result"
    }
   ],
   "source": [
    "len(df_top10)"
   ]
  },
  {
   "cell_type": "code",
   "execution_count": 7,
   "metadata": {},
   "outputs": [
    {
     "data": {
      "text/plain": [
       "US             62397\n",
       "Italy          23478\n",
       "France         21098\n",
       "Spain           8268\n",
       "Chile           5816\n",
       "Argentina       5631\n",
       "Portugal        5322\n",
       "Australia       4957\n",
       "New Zealand     3320\n",
       "Austria         3057\n",
       "Name: country, dtype: int64"
      ]
     },
     "execution_count": 7,
     "metadata": {},
     "output_type": "execute_result"
    }
   ],
   "source": [
    "df_top10.country.value_counts()"
   ]
  },
  {
   "cell_type": "markdown",
   "metadata": {},
   "source": [
    "Since we want to create embeddings for each of the words in the description, we will use the GloVe pre-trained word vectors from Stanford NLP Group (https://nlp.stanford.edu/projects/glove/). "
   ]
  },
  {
   "cell_type": "code",
   "execution_count": 8,
   "metadata": {
    "collapsed": true
   },
   "outputs": [],
   "source": [
    "def clean(s):\n",
    "    # Cleans a string: Lowercasing, trimming, removing non-alphanumeric\n",
    "\n",
    "    return \" \".join(re.findall(r'\\w+', s, flags=re.UNICODE)).lower()\n",
    "\n",
    "def get_tokenized_lemmas(s):\n",
    "    return [normalize_word(t) for t in nltk.word_tokenize(s)]\n",
    "\n",
    "def get_glove():\n",
    "    if os.path.isfile('data/glove.pickle'):\n",
    "        with open('data/glove.pickle', 'rb') as handle:\n",
    "            return pickle.load(handle)\n",
    "    else:\n",
    "        if os.path.isfile('data/glove.6B.100d.txt'):\n",
    "            glove_dict = {}\n",
    "            with open('data/glove.6B.100d.txt') as f:\n",
    "                i=0\n",
    "                for a in f:\n",
    "                    glove_dict[a.split()[0]] = i\n",
    "                    i = i+1\n",
    "            with open('data/glove.pickle', 'wb') as handle:\n",
    "                pickle.dump(glove_dict, handle, protocol=pickle.HIGHEST_PROTOCOL)\n",
    "            return glove_dict\n",
    "        \n",
    "def get_glove_matrix():\n",
    "    X = []\n",
    "    if os.path.isfile('data/glove.6B.100d.txt'):\n",
    "        with open('data/glove.6B.100d.txt') as f:\n",
    "            for a in f:\n",
    "                X.append(np.fromstring((\" \".join(a.split()[1:])), dtype=float, sep=' '))\n",
    "    return np.array(X)\n",
    "\n",
    "def transform_text(w2vmodel, words, maxlen=20):\n",
    "    data = list()\n",
    "    for i in range(0, maxlen):  #range(0, len(words)-1):\n",
    "        if i < len(words):\n",
    "            word = words[i]\n",
    "            if word in w2vmodel:\n",
    "                index = w2vmodel[word]\n",
    "            else:\n",
    "                index = w2vmodel[\"unk\"]\n",
    "        else:\n",
    "            index = w2vmodel[\"unk\"]\n",
    "        data.append(index)\n",
    "    return np.asarray(data)"
   ]
  },
  {
   "cell_type": "code",
   "execution_count": 9,
   "metadata": {
    "collapsed": true
   },
   "outputs": [],
   "source": [
    "glove_dict = get_glove()"
   ]
  },
  {
   "cell_type": "code",
   "execution_count": 10,
   "metadata": {
    "collapsed": true
   },
   "outputs": [],
   "source": [
    "glove_dict_inv = dict((v,k) for k,v in glove_dict.iteritems())"
   ]
  },
  {
   "cell_type": "markdown",
   "metadata": {},
   "source": [
    "And once the pretrained embeddings are loaded, we transform our descriptions into a arrays of GloVe indices. These were limited to 50 words per description based on the distribution of descriptions lengths."
   ]
  },
  {
   "cell_type": "code",
   "execution_count": 11,
   "metadata": {
    "collapsed": true
   },
   "outputs": [],
   "source": [
    "X = []\n",
    "for desc in df_top10.description:\n",
    "    desc_proc = clean(desc.decode(\"ascii\", errors=\"ignore\").encode()).split()\n",
    "    desc_emb = transform_text(glove_dict,desc_proc,50)\n",
    "    X.append(desc_emb)\n",
    "X = np.array(X)"
   ]
  },
  {
   "cell_type": "code",
   "execution_count": 12,
   "metadata": {},
   "outputs": [
    {
     "data": {
      "text/plain": [
       "(143344L, 50L)"
      ]
     },
     "execution_count": 12,
     "metadata": {},
     "output_type": "execute_result"
    }
   ],
   "source": [
    "X.shape"
   ]
  },
  {
   "cell_type": "markdown",
   "metadata": {},
   "source": [
    "Onehot encoding the labels to fit the output of the neural network that we wil train."
   ]
  },
  {
   "cell_type": "code",
   "execution_count": 13,
   "metadata": {
    "collapsed": true
   },
   "outputs": [],
   "source": [
    "from sklearn import preprocessing\n",
    "enc = preprocessing.LabelEncoder()\n",
    "enc.fit(df_top10['country'])\n",
    "new_cat_features = enc.transform(df_top10['country'])\n",
    "new_cat_features = new_cat_features.reshape(-1, 1) # Needs to be the correct shape\n",
    "ohe = preprocessing.OneHotEncoder(sparse=False) #Easier to read\n",
    "labels = ohe.fit_transform(new_cat_features)"
   ]
  },
  {
   "cell_type": "code",
   "execution_count": 14,
   "metadata": {
    "collapsed": true
   },
   "outputs": [],
   "source": [
    "msk = np.random.rand(len(X)) < 0.8\n",
    "trn = X[msk]\n",
    "val = X[~msk]\n",
    "trn_labels = labels[msk]\n",
    "val_labels = labels[~msk]"
   ]
  },
  {
   "cell_type": "code",
   "execution_count": 15,
   "metadata": {},
   "outputs": [
    {
     "data": {
      "text/plain": [
       "(28742L, 10L)"
      ]
     },
     "execution_count": 15,
     "metadata": {},
     "output_type": "execute_result"
    }
   ],
   "source": [
    "val_labels.shape"
   ]
  },
  {
   "cell_type": "code",
   "execution_count": 16,
   "metadata": {},
   "outputs": [
    {
     "data": {
      "text/plain": [
       "(28742L, 50L)"
      ]
     },
     "execution_count": 16,
     "metadata": {},
     "output_type": "execute_result"
    }
   ],
   "source": [
    "val.shape"
   ]
  },
  {
   "cell_type": "code",
   "execution_count": 17,
   "metadata": {
    "collapsed": true
   },
   "outputs": [],
   "source": [
    "glove_matrix = get_glove_matrix()"
   ]
  },
  {
   "cell_type": "code",
   "execution_count": null,
   "metadata": {},
   "outputs": [],
   "source": [
    "glove_matrix.shape"
   ]
  },
  {
   "cell_type": "markdown",
   "metadata": {},
   "source": [
    "# CNN\n",
    "\n",
    "Firstly, we will try an approach based on a CNN with 1D convolutions of size 5 follow by a fully connected layer."
   ]
  },
  {
   "cell_type": "code",
   "execution_count": null,
   "metadata": {},
   "outputs": [],
   "source": [
    "model = Sequential([\n",
    "    Embedding(400000, 100, input_length=50, dropout=0.2, \n",
    "              weights=[glove_matrix], trainable=False),\n",
    "    Dropout(0.25),\n",
    "    Convolution1D(64, 5, border_mode='same', activation='relu'),\n",
    "    Dropout(0.25),\n",
    "    MaxPooling1D(),\n",
    "    Flatten(),\n",
    "    Dense(100, activation='relu'),\n",
    "    Dropout(0.7),\n",
    "    Dense(10, activation='softmax')])\n",
    "\n",
    "model.compile(loss='categorical_crossentropy', optimizer=Adam(), metrics=['accuracy'])\n",
    "model.fit(trn, trn_labels, validation_data=(val, val_labels), nb_epoch=2, batch_size=64)"
   ]
  },
  {
   "cell_type": "code",
   "execution_count": null,
   "metadata": {
    "collapsed": true
   },
   "outputs": [],
   "source": [
    "model.layers[0].trainable=True"
   ]
  },
  {
   "cell_type": "code",
   "execution_count": null,
   "metadata": {
    "collapsed": true
   },
   "outputs": [],
   "source": [
    "model.optimizer.lr=1e-4"
   ]
  },
  {
   "cell_type": "code",
   "execution_count": null,
   "metadata": {},
   "outputs": [],
   "source": [
    "model.fit(trn, trn_labels, validation_data=(val, val_labels), nb_epoch=10, batch_size=64)"
   ]
  },
  {
   "cell_type": "markdown",
   "metadata": {},
   "source": [
    "# LSTM\n",
    "\n",
    "Second, we will try a simple RNN based on LSTM."
   ]
  },
  {
   "cell_type": "code",
   "execution_count": null,
   "metadata": {
    "collapsed": true
   },
   "outputs": [],
   "source": [
    "model = Sequential([\n",
    "    Embedding(400000, 100, input_length=50, mask_zero=True,\n",
    "              weights=[glove_matrix], W_regularizer=l2(1e-6), dropout=0.2),\n",
    "    LSTM(100, consume_less='gpu'),\n",
    "    Dense(10, activation='softmax')])\n",
    "model.compile(loss='categorical_crossentropy', optimizer='adam', metrics=['accuracy'])"
   ]
  },
  {
   "cell_type": "code",
   "execution_count": null,
   "metadata": {},
   "outputs": [],
   "source": [
    "model.fit(trn, trn_labels, validation_data=(val, val_labels), nb_epoch=10, batch_size=64)"
   ]
  },
  {
   "cell_type": "code",
   "execution_count": null,
   "metadata": {
    "collapsed": true
   },
   "outputs": [],
   "source": [
    "model.save_weights('data/lstm.h5')"
   ]
  },
  {
   "cell_type": "code",
   "execution_count": null,
   "metadata": {
    "collapsed": true
   },
   "outputs": [],
   "source": [
    "model.load_weights('data/lstm.h5')"
   ]
  },
  {
   "cell_type": "markdown",
   "metadata": {},
   "source": [
    "# GRU"
   ]
  },
  {
   "cell_type": "code",
   "execution_count": 21,
   "metadata": {},
   "outputs": [],
   "source": [
    "model = Sequential([\n",
    "    Embedding(400000, 100, input_length=50, weights=[glove_matrix], W_regularizer=l2(1e-6), dropout=0.2),\n",
    "    BatchNormalization(),\n",
    "    LSTM(100, consume_less='gpu'),\n",
    "    Dropout(0.2),\n",
    "    Dense(10, activation='softmax')])\n",
    "model.compile(loss='categorical_crossentropy', optimizer='adam', metrics=['accuracy'])"
   ]
  },
  {
   "cell_type": "code",
   "execution_count": 22,
   "metadata": {},
   "outputs": [
    {
     "name": "stdout",
     "output_type": "stream",
     "text": [
      "Train on 114602 samples, validate on 28742 samples\n",
      "Epoch 1/10\n",
      "114602/114602 [==============================] - 326s - loss: 2.0933 - acc: 0.6925 - val_loss: 0.7442 - val_acc: 0.7804\n",
      "Epoch 2/10\n",
      "114602/114602 [==============================] - 335s - loss: 0.7101 - acc: 0.7842 - val_loss: 0.6114 - val_acc: 0.8153\n",
      "Epoch 3/10\n",
      "114602/114602 [==============================] - 330s - loss: 0.5869 - acc: 0.8219 - val_loss: 0.5278 - val_acc: 0.8464\n",
      "Epoch 4/10\n",
      "114602/114602 [==============================] - 329s - loss: 0.5024 - acc: 0.8521 - val_loss: 0.4629 - val_acc: 0.8653\n",
      "Epoch 5/10\n",
      "114602/114602 [==============================] - 324s - loss: 0.4457 - acc: 0.8718 - val_loss: 0.4460 - val_acc: 0.8742\n",
      "Epoch 6/10\n",
      "114602/114602 [==============================] - 326s - loss: 0.4037 - acc: 0.8859 - val_loss: 0.4431 - val_acc: 0.8720\n",
      "Epoch 7/10\n",
      "114602/114602 [==============================] - 324s - loss: 0.3735 - acc: 0.8955 - val_loss: 0.4099 - val_acc: 0.8849\n",
      "Epoch 8/10\n",
      "114602/114602 [==============================] - 322s - loss: 0.3499 - acc: 0.9032 - val_loss: 0.4018 - val_acc: 0.8916\n",
      "Epoch 9/10\n",
      "114602/114602 [==============================] - 321s - loss: 0.3267 - acc: 0.9108 - val_loss: 0.4004 - val_acc: 0.8944\n",
      "Epoch 10/10\n",
      "114602/114602 [==============================] - 324s - loss: 0.3107 - acc: 0.9153 - val_loss: 0.3789 - val_acc: 0.9006\n"
     ]
    },
    {
     "data": {
      "text/plain": [
       "<keras.callbacks.History at 0x5b598cc0>"
      ]
     },
     "execution_count": 22,
     "metadata": {},
     "output_type": "execute_result"
    }
   ],
   "source": [
    "model.fit(trn, trn_labels, validation_data=(val, val_labels), nb_epoch=10, batch_size=64)"
   ]
  },
  {
   "cell_type": "markdown",
   "metadata": {},
   "source": [
    "# Result analysis\n",
    "\n",
    "The 0.9 accuracy obtained in the validation set by the RNN seems to be fairly good considering the amount of classes present and the size of the descriptions. Let's have a look at the confusion matrix to see what went on during the predictions."
   ]
  },
  {
   "cell_type": "code",
   "execution_count": 23,
   "metadata": {
    "scrolled": true
   },
   "outputs": [
    {
     "name": "stdout",
     "output_type": "stream",
     "text": [
      "28742/28742 [==============================] - 14s    \n"
     ]
    }
   ],
   "source": [
    "predictions = model.predict_classes(val)\n",
    "prediction_prob = model.predict(val)"
   ]
  },
  {
   "cell_type": "code",
   "execution_count": 24,
   "metadata": {
    "collapsed": true
   },
   "outputs": [],
   "source": [
    "real_val = [np.argmax(i) for i in val_labels]"
   ]
  },
  {
   "cell_type": "markdown",
   "metadata": {},
   "source": [
    "## Confusion matrix"
   ]
  },
  {
   "cell_type": "code",
   "execution_count": 25,
   "metadata": {
    "collapsed": true
   },
   "outputs": [],
   "source": [
    "def plot_confusion_matrix(cm, classes,\n",
    "                          normalize=False,\n",
    "                          title='Confusion matrix',\n",
    "                          cmap=plt.cm.Blues):\n",
    "    \"\"\"\n",
    "    This function prints and plots the confusion matrix.\n",
    "    Normalization can be applied by setting `normalize=True`.\n",
    "    \"\"\"\n",
    "    if normalize:\n",
    "        cm = cm.astype('float') / cm.sum(axis=1)[:, np.newaxis]\n",
    "        print(\"Normalized confusion matrix\")\n",
    "    else:\n",
    "        print('Confusion matrix, without normalization')\n",
    "\n",
    "    print(cm)\n",
    "\n",
    "    plt.imshow(cm, interpolation='nearest', cmap=cmap)\n",
    "    plt.title(title)\n",
    "    plt.colorbar()\n",
    "    tick_marks = np.arange(len(classes))\n",
    "    plt.xticks(tick_marks, classes, rotation=45)\n",
    "    plt.yticks(tick_marks, classes)\n",
    "\n",
    "    fmt = '.2f' if normalize else 'd'\n",
    "    thresh = cm.max() / 2.\n",
    "    for i, j in itertools.product(range(cm.shape[0]), range(cm.shape[1])):\n",
    "        plt.text(j, i, format(cm[i, j], fmt),\n",
    "                 horizontalalignment=\"center\",\n",
    "                 color=\"white\" if cm[i, j] > thresh else \"black\")\n",
    "\n",
    "    plt.tight_layout()\n",
    "    plt.ylabel('True label')\n",
    "    plt.xlabel('Predicted label')"
   ]
  },
  {
   "cell_type": "code",
   "execution_count": 26,
   "metadata": {},
   "outputs": [
    {
     "name": "stdout",
     "output_type": "stream",
     "text": [
      "Confusion matrix, without normalization\n",
      "[[  738     1     0   194     3     7     0     0   139    19]\n",
      " [    0   849     0     4    44    20    37     1     3    73]\n",
      " [    1     6   391     1   171     4     3    20     0    14]\n",
      " [  122    14     1   845     6    16     4     1   101    47]\n",
      " [    1    62    56     2  3786    15    16   143    10    90]\n",
      " [   14    15     1    17    20  4508     2     0    39    59]\n",
      " [    0    48     1     4    15     2   586     0     0    42]\n",
      " [    0    17    10     0   386     2     1   661     0    11]\n",
      " [  137     2     0   210     4    15     0     1  1296    18]\n",
      " [    0    74    13    21    87    61    26     4     6 12225]]\n"
     ]
    },
    {
     "data": {
      "image/png": "[encoded data removed]",
      "text/plain": [
       "<matplotlib.figure.Figure at 0x51232ef0>"
      ]
     },
     "metadata": {},
     "output_type": "display_data"
    }
   ],
   "source": [
    "# Compute confusion matrix\n",
    "cnf_matrix = confusion_matrix(real_val, predictions)\n",
    "\n",
    "plt.figure()\n",
    "plot_confusion_matrix(cnf_matrix, classes=enc.classes_,\n",
    "                      title='Confusion matrix, without normalization')\n",
    "plt.show()"
   ]
  },
  {
   "cell_type": "markdown",
   "metadata": {},
   "source": [
    "Seems like the model is confusing some wines coming from Argentina, Chile and Spain and also between France and Portugal. In the first case, it could be due to some spanish words showing up in the descriptions and, in the second case, the reason is not really clear."
   ]
  },
  {
   "cell_type": "markdown",
   "metadata": {},
   "source": [
    "## Errors"
   ]
  },
  {
   "cell_type": "code",
   "execution_count": 27,
   "metadata": {},
   "outputs": [],
   "source": [
    "spanish_as_argentinian = [[x,z] for w,x,y,z in zip(predictions,prediction_prob,real_val,val) if w==0 and y==8]"
   ]
  },
  {
   "cell_type": "code",
   "execution_count": 28,
   "metadata": {},
   "outputs": [],
   "source": [
    "s_a_s_sorted = sorted(spanish_as_argentinian, key=lambda x: x[0][0], reverse=True)"
   ]
  },
  {
   "cell_type": "code",
   "execution_count": 29,
   "metadata": {
    "scrolled": true
   },
   "outputs": [
    {
     "data": {
      "text/plain": [
       "'tropical on the nose with lychee fruit and tangerine aromas the palate is easygoing and fairly thorough while the flavor profile suggest argentine unk as it deals lychee powdered sugar and papaya clean light quaffable and that s about it unk unk unk unk unk unk unk unk unk unk'"
      ]
     },
     "execution_count": 29,
     "metadata": {},
     "output_type": "execute_result"
    }
   ],
   "source": [
    "\" \".join([glove_dict_inv[x] for x in s_a_s_sorted[0][1]])"
   ]
  },
  {
   "cell_type": "code",
   "execution_count": 30,
   "metadata": {
    "collapsed": true
   },
   "outputs": [],
   "source": [
    "spanish_as_chilean = [[x,z] for w,x,y,z in zip(predictions,prediction_prob,real_val,val) if w==4 and y==8]"
   ]
  },
  {
   "cell_type": "code",
   "execution_count": 31,
   "metadata": {
    "collapsed": true
   },
   "outputs": [],
   "source": [
    "s_a_c_sorted = sorted(spanish_as_chilean, key=lambda x: x[0][0], reverse=True)"
   ]
  },
  {
   "cell_type": "code",
   "execution_count": 32,
   "metadata": {},
   "outputs": [
    {
     "data": {
      "text/plain": [
       "'this medium sweet wine has a lot of issues first off it smells like cooked bananas next the palate is like mango cotton candy third the juice itself will take a coat of enamel off your teeth need more imported by vineyard brands unk unk unk unk unk unk unk'"
      ]
     },
     "execution_count": 32,
     "metadata": {},
     "output_type": "execute_result"
    }
   ],
   "source": [
    "\" \".join([glove_dict_inv[x] for x in s_a_c_sorted[0][1]])"
   ]
  }
 ],
 "metadata": {
  "kernelspec": {
   "display_name": "Python 2",
   "language": "python",
   "name": "python2"
  },
  "language_info": {
   "codemirror_mode": {
    "name": "ipython",
    "version": 2
   },
   "file_extension": ".py",
   "mimetype": "text/x-python",
   "name": "python",
   "nbconvert_exporter": "python",
   "pygments_lexer": "ipython2",
   "version": "2.7.13"
  }
 },
 "nbformat": 4,
 "nbformat_minor": 2
}
