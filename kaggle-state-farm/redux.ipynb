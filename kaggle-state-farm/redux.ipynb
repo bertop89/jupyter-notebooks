{
 "cells": [
  {
   "cell_type": "markdown",
   "metadata": {
    "collapsed": true
   },
   "source": [
    "# Kaggle State Farm Redux\n",
    "\n",
    "This notebook will generate the different datasets that will be used to submit an entry into the State Farm Kaggle competition."
   ]
  },
  {
   "cell_type": "code",
   "execution_count": 7,
   "metadata": {
    "collapsed": true
   },
   "outputs": [],
   "source": [
    "#Create references to important directories we will use over and over\n",
    "import os, sys\n",
    "from glob import glob\n",
    "import numpy as np\n",
    "from shutil import copyfile\n",
    "current_dir = os.getcwd()\n",
    "DATA_HOME_DIR = os.path.join(current_dir,'data')"
   ]
  },
  {
   "cell_type": "markdown",
   "metadata": {},
   "source": [
    "## Make dirs"
   ]
  },
  {
   "cell_type": "code",
   "execution_count": 3,
   "metadata": {
    "collapsed": true
   },
   "outputs": [],
   "source": [
    "os.chdir(DATA_HOME_DIR)\n",
    "os.makedirs('results')\n",
    "os.makedirs(os.path.join('sample','results'))\n",
    "classes = next(os.walk('train'))[1]\n",
    "for char in classes:\n",
    "    os.chdir(DATA_HOME_DIR)\n",
    "    os.makedirs(os.path.join('valid',char))\n",
    "    os.makedirs(os.path.join('sample','train',char))\n",
    "    os.makedirs(os.path.join('sample','valid',char))"
   ]
  },
  {
   "cell_type": "markdown",
   "metadata": {},
   "source": [
    "## Create validation set (3 drivers)"
   ]
  },
  {
   "cell_type": "code",
   "execution_count": 30,
   "metadata": {
    "collapsed": true
   },
   "outputs": [],
   "source": [
    "import pandas as pd\n",
    "def mv_valid():\n",
    "    # read the CSV file into a pandas DataFrame\n",
    "    dil = pd.read_csv(os.path.join(DATA_HOME_DIR,'driver_imgs_list.csv'))\n",
    "    # group the frame by the subject in the image\n",
    "    grouped = dil.groupby('subject')\n",
    "    # pick a subject at random\n",
    "    subject = grouped.groups.keys()[np.random.randint(0, high=len(grouped)-1)]\n",
    "    # get the group associated with the subject\n",
    "    group = grouped.get_group(subject)\n",
    "    # loop over the group and move the images into the validation directory\n",
    "    for (subject, cls, img) in group.values:\n",
    "        path = os.path.join(DATA_HOME_DIR,'valid',cls)\n",
    "        if not os.path.exists(path):\n",
    "            os.makedirs(path)\n",
    "        source = os.path.join(DATA_HOME_DIR,'train',cls,img)\n",
    "        target = source.replace('train', 'valid')\n",
    "        os.rename(source, target)"
   ]
  },
  {
   "cell_type": "code",
   "execution_count": 33,
   "metadata": {
    "collapsed": true
   },
   "outputs": [],
   "source": [
    "for in range(3): mv_valid()"
   ]
  },
  {
   "cell_type": "markdown",
   "metadata": {},
   "source": [
    "## Create sample set (all drivers training & 3 validation)"
   ]
  },
  {
   "cell_type": "code",
   "execution_count": 10,
   "metadata": {
    "collapsed": true
   },
   "outputs": [],
   "source": [
    "os.chdir(DATA_HOME_DIR)\n",
    "classes = next(os.walk('train'))[1]\n",
    "for char in classes:\n",
    "    os.chdir(DATA_HOME_DIR)\n",
    "    os.chdir(os.path.join(DATA_HOME_DIR,'train',char))\n",
    "    g = glob('*.jpg')\n",
    "    shuf = np.random.permutation(g)\n",
    "    path = os.path.join(DATA_HOME_DIR,'sample','train',char)\n",
    "    if not os.path.exists(path):\n",
    "        os.makedirs(path)\n",
    "    for i in range(350): copyfile(shuf[i], os.path.join(path,shuf[i]))"
   ]
  }
 ],
 "metadata": {
  "anaconda-cloud": {},
  "kernelspec": {
   "display_name": "Python 2",
   "language": "python",
   "name": "python2"
  },
  "language_info": {
   "codemirror_mode": {
    "name": "ipython",
    "version": 2
   },
   "file_extension": ".py",
   "mimetype": "text/x-python",
   "name": "python",
   "nbconvert_exporter": "python",
   "pygments_lexer": "ipython2",
   "version": "2.7.13"
  }
 },
 "nbformat": 4,
 "nbformat_minor": 2
}
