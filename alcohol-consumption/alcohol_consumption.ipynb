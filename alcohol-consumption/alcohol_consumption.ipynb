{
 "cells": [
  {
   "cell_type": "code",
   "execution_count": 1,
   "metadata": {
    "collapsed": true
   },
   "outputs": [],
   "source": [
    "%matplotlib inline\n",
    "import pandas as pd\n",
    "import matplotlib.pyplot as plt\n",
    "import numpy as np\n",
    "import seaborn as sns\n",
    "plt.rc('figure', figsize=(12, 5))"
   ]
  },
  {
   "cell_type": "markdown",
   "metadata": {},
   "source": [
    "# Carga de datos\n",
    "\n",
    "Puesto que nuestro conjunto de datos está separado por cursos en ficheros csv, creamos una función que toma como argumento un identificador de curso y retorna un dataframe de pandas con los datos etiquetados con el identificador del curso."
   ]
  },
  {
   "cell_type": "code",
   "execution_count": 2,
   "metadata": {
    "collapsed": true
   },
   "outputs": [],
   "source": [
    "def load_and_label(course):\n",
    "    df = pd.read_csv('student-'+course+'.csv', sep=';')\n",
    "    df['course'] = course\n",
    "    return df"
   ]
  },
  {
   "cell_type": "markdown",
   "metadata": {},
   "source": [
    "Usamos la función para cargar el curso de matématicas y portugués que uniremos en un único dataframe a continuación."
   ]
  },
  {
   "cell_type": "code",
   "execution_count": 3,
   "metadata": {
    "collapsed": false
   },
   "outputs": [],
   "source": [
    "df_m = load_and_label('mat')\n",
    "df_p = load_and_label('por')\n",
    "df = pd.concat([df_m,df_p])"
   ]
  },
  {
   "cell_type": "code",
   "execution_count": 4,
   "metadata": {
    "collapsed": false
   },
   "outputs": [
    {
     "data": {
      "text/html": [
       "<div>\n",
       "<table border=\"1\" class=\"dataframe\">\n",
       "  <thead>\n",
       "    <tr style=\"text-align: right;\">\n",
       "      <th></th>\n",
       "      <th>school</th>\n",
       "      <th>sex</th>\n",
       "      <th>age</th>\n",
       "      <th>address</th>\n",
       "      <th>famsize</th>\n",
       "      <th>Pstatus</th>\n",
       "      <th>Medu</th>\n",
       "      <th>Fedu</th>\n",
       "      <th>Mjob</th>\n",
       "      <th>Fjob</th>\n",
       "      <th>...</th>\n",
       "      <th>freetime</th>\n",
       "      <th>goout</th>\n",
       "      <th>Dalc</th>\n",
       "      <th>Walc</th>\n",
       "      <th>health</th>\n",
       "      <th>absences</th>\n",
       "      <th>G1</th>\n",
       "      <th>G2</th>\n",
       "      <th>G3</th>\n",
       "      <th>course</th>\n",
       "    </tr>\n",
       "  </thead>\n",
       "  <tbody>\n",
       "    <tr>\n",
       "      <th>0</th>\n",
       "      <td>GP</td>\n",
       "      <td>F</td>\n",
       "      <td>18</td>\n",
       "      <td>U</td>\n",
       "      <td>GT3</td>\n",
       "      <td>A</td>\n",
       "      <td>4</td>\n",
       "      <td>4</td>\n",
       "      <td>at_home</td>\n",
       "      <td>teacher</td>\n",
       "      <td>...</td>\n",
       "      <td>3</td>\n",
       "      <td>4</td>\n",
       "      <td>1</td>\n",
       "      <td>1</td>\n",
       "      <td>3</td>\n",
       "      <td>6</td>\n",
       "      <td>5</td>\n",
       "      <td>6</td>\n",
       "      <td>6</td>\n",
       "      <td>mat</td>\n",
       "    </tr>\n",
       "    <tr>\n",
       "      <th>1</th>\n",
       "      <td>GP</td>\n",
       "      <td>F</td>\n",
       "      <td>17</td>\n",
       "      <td>U</td>\n",
       "      <td>GT3</td>\n",
       "      <td>T</td>\n",
       "      <td>1</td>\n",
       "      <td>1</td>\n",
       "      <td>at_home</td>\n",
       "      <td>other</td>\n",
       "      <td>...</td>\n",
       "      <td>3</td>\n",
       "      <td>3</td>\n",
       "      <td>1</td>\n",
       "      <td>1</td>\n",
       "      <td>3</td>\n",
       "      <td>4</td>\n",
       "      <td>5</td>\n",
       "      <td>5</td>\n",
       "      <td>6</td>\n",
       "      <td>mat</td>\n",
       "    </tr>\n",
       "    <tr>\n",
       "      <th>2</th>\n",
       "      <td>GP</td>\n",
       "      <td>F</td>\n",
       "      <td>15</td>\n",
       "      <td>U</td>\n",
       "      <td>LE3</td>\n",
       "      <td>T</td>\n",
       "      <td>1</td>\n",
       "      <td>1</td>\n",
       "      <td>at_home</td>\n",
       "      <td>other</td>\n",
       "      <td>...</td>\n",
       "      <td>3</td>\n",
       "      <td>2</td>\n",
       "      <td>2</td>\n",
       "      <td>3</td>\n",
       "      <td>3</td>\n",
       "      <td>10</td>\n",
       "      <td>7</td>\n",
       "      <td>8</td>\n",
       "      <td>10</td>\n",
       "      <td>mat</td>\n",
       "    </tr>\n",
       "    <tr>\n",
       "      <th>3</th>\n",
       "      <td>GP</td>\n",
       "      <td>F</td>\n",
       "      <td>15</td>\n",
       "      <td>U</td>\n",
       "      <td>GT3</td>\n",
       "      <td>T</td>\n",
       "      <td>4</td>\n",
       "      <td>2</td>\n",
       "      <td>health</td>\n",
       "      <td>services</td>\n",
       "      <td>...</td>\n",
       "      <td>2</td>\n",
       "      <td>2</td>\n",
       "      <td>1</td>\n",
       "      <td>1</td>\n",
       "      <td>5</td>\n",
       "      <td>2</td>\n",
       "      <td>15</td>\n",
       "      <td>14</td>\n",
       "      <td>15</td>\n",
       "      <td>mat</td>\n",
       "    </tr>\n",
       "    <tr>\n",
       "      <th>4</th>\n",
       "      <td>GP</td>\n",
       "      <td>F</td>\n",
       "      <td>16</td>\n",
       "      <td>U</td>\n",
       "      <td>GT3</td>\n",
       "      <td>T</td>\n",
       "      <td>3</td>\n",
       "      <td>3</td>\n",
       "      <td>other</td>\n",
       "      <td>other</td>\n",
       "      <td>...</td>\n",
       "      <td>3</td>\n",
       "      <td>2</td>\n",
       "      <td>1</td>\n",
       "      <td>2</td>\n",
       "      <td>5</td>\n",
       "      <td>4</td>\n",
       "      <td>6</td>\n",
       "      <td>10</td>\n",
       "      <td>10</td>\n",
       "      <td>mat</td>\n",
       "    </tr>\n",
       "  </tbody>\n",
       "</table>\n",
       "<p>5 rows × 34 columns</p>\n",
       "</div>"
      ],
      "text/plain": [
       "  school sex  age address famsize Pstatus  Medu  Fedu     Mjob      Fjob  \\\n",
       "0     GP   F   18       U     GT3       A     4     4  at_home   teacher   \n",
       "1     GP   F   17       U     GT3       T     1     1  at_home     other   \n",
       "2     GP   F   15       U     LE3       T     1     1  at_home     other   \n",
       "3     GP   F   15       U     GT3       T     4     2   health  services   \n",
       "4     GP   F   16       U     GT3       T     3     3    other     other   \n",
       "\n",
       "   ...   freetime goout  Dalc  Walc  health absences  G1  G2  G3 course  \n",
       "0  ...          3     4     1     1       3        6   5   6   6    mat  \n",
       "1  ...          3     3     1     1       3        4   5   5   6    mat  \n",
       "2  ...          3     2     2     3       3       10   7   8  10    mat  \n",
       "3  ...          2     2     1     1       5        2  15  14  15    mat  \n",
       "4  ...          3     2     1     2       5        4   6  10  10    mat  \n",
       "\n",
       "[5 rows x 34 columns]"
      ]
     },
     "execution_count": 4,
     "metadata": {},
     "output_type": "execute_result"
    }
   ],
   "source": [
    "df.head()"
   ]
  },
  {
   "cell_type": "markdown",
   "metadata": {},
   "source": [
    "# Análisis de distribución\n",
    "\n",
    "Ahora procederemos a realizar un análisis de la distribución de ciertas variables para hacernos una idea de la población que manejamos en nuestro conjunto de datos. "
   ]
  },
  {
   "cell_type": "code",
   "execution_count": 118,
   "metadata": {
    "collapsed": false
   },
   "outputs": [
    {
     "data": {
      "image/png": "[encoded data removed]",
      "text/plain": [
       "<matplotlib.figure.Figure at 0x7fa7449dc048>"
      ]
     },
     "metadata": {},
     "output_type": "display_data"
    }
   ],
   "source": [
    "sums = df.sex.groupby(df.sex).count()\n",
    "plt.axis('equal');\n",
    "plt.pie(sums, labels=['F','M'],autopct='%1.1f%%');\n",
    "plt.show()"
   ]
  },
  {
   "cell_type": "markdown",
   "metadata": {},
   "source": [
    "Podemos observar que hay un mayor porcentaje de mujeres que de hombres."
   ]
  },
  {
   "cell_type": "code",
   "execution_count": 136,
   "metadata": {
    "collapsed": false
   },
   "outputs": [
    {
     "data": {
      "text/plain": [
       "<matplotlib.legend.Legend at 0x7fa743de8470>"
      ]
     },
     "execution_count": 136,
     "metadata": {},
     "output_type": "execute_result"
    },
    {
     "data": {
      "image/png": "[encoded data removed]",
      "text/plain": [
       "<matplotlib.figure.Figure at 0x7fa743c381d0>"
      ]
     },
     "metadata": {},
     "output_type": "display_data"
    }
   ],
   "source": [
    "sns.distplot(df.age[df.sex==\"F\"], kde=False, label = 'F', bins=8)\n",
    "sns.distplot(df.age[df.sex==\"M\"], kde=False, label = 'M', bins=8)\n",
    "plt.legend()"
   ]
  },
  {
   "cell_type": "markdown",
   "metadata": {},
   "source": [
    "Representando la distribución de edades por sexos, podemos observar que hay mayor densidad de hombres en edades jóvenes y adultas mientras que las mujeres se concentran en edades intermedias.\n",
    "\n",
    "Ahora veremos como se distribuye el consumo de alcohol a diario en ambos sexos:"
   ]
  },
  {
   "cell_type": "code",
   "execution_count": 134,
   "metadata": {
    "collapsed": false
   },
   "outputs": [
    {
     "data": {
      "image/png": "[encoded data removed]",
      "text/plain": [
       "<matplotlib.figure.Figure at 0x7fa743e96208>"
      ]
     },
     "metadata": {},
     "output_type": "display_data"
    }
   ],
   "source": [
    "plt.pie(df.Dalc[df.sex==\"M\"].value_counts().tolist(),\n",
    "        autopct='%1.1f%%', startangle=90, labels=['1','2','3','4','5'])\n",
    "axis = plt.axis('equal')"
   ]
  },
  {
   "cell_type": "code",
   "execution_count": 135,
   "metadata": {
    "collapsed": false
   },
   "outputs": [
    {
     "data": {
      "image/png": "[encoded data removed]",
      "text/plain": [
       "<matplotlib.figure.Figure at 0x7fa743ea2dd8>"
      ]
     },
     "metadata": {},
     "output_type": "display_data"
    }
   ],
   "source": [
    "plt.pie(df.Dalc[df.sex==\"F\"].value_counts().tolist(),\n",
    "        autopct='%1.1f%%', startangle=90, labels=['1','2','3','4','5'])\n",
    "axis = plt.axis('equal')"
   ]
  },
  {
   "cell_type": "markdown",
   "metadata": {},
   "source": [
    "Un mayor porcentaje de hombres consume alcohol frecuentemente entre semana comparado con las mujeres. "
   ]
  },
  {
   "cell_type": "markdown",
   "metadata": {},
   "source": [
    "# Análisis de correlación\n",
    "\n",
    "Ya que nuestro conjunto de datos contiene información sobre el consumo de alcohol entre estudiantes, vamos a analizar la relación de éste con el resto de las variables. Prestaremos un especial interés a la posible relación entre el consumo de alcohol y el rendimiento académico de los alumnos.\n",
    "\n",
    "Primero vamos a construtir la matriz de correlación entre todas las variables."
   ]
  },
  {
   "cell_type": "code",
   "execution_count": 116,
   "metadata": {
    "collapsed": false
   },
   "outputs": [
    {
     "data": {
      "text/html": [
       "<div>\n",
       "<table border=\"1\" class=\"dataframe\">\n",
       "  <thead>\n",
       "    <tr style=\"text-align: right;\">\n",
       "      <th></th>\n",
       "      <th>age</th>\n",
       "      <th>Medu</th>\n",
       "      <th>Fedu</th>\n",
       "      <th>traveltime</th>\n",
       "      <th>studytime</th>\n",
       "      <th>failures</th>\n",
       "      <th>famrel</th>\n",
       "      <th>freetime</th>\n",
       "      <th>goout</th>\n",
       "      <th>Dalc</th>\n",
       "      <th>Walc</th>\n",
       "      <th>health</th>\n",
       "      <th>absences</th>\n",
       "      <th>G1</th>\n",
       "      <th>G2</th>\n",
       "      <th>G3</th>\n",
       "    </tr>\n",
       "  </thead>\n",
       "  <tbody>\n",
       "    <tr>\n",
       "      <th>age</th>\n",
       "      <td>1.000000</td>\n",
       "      <td>-0.130196</td>\n",
       "      <td>-0.138521</td>\n",
       "      <td>0.049216</td>\n",
       "      <td>-0.007870</td>\n",
       "      <td>0.282364</td>\n",
       "      <td>0.007162</td>\n",
       "      <td>0.002645</td>\n",
       "      <td>0.118510</td>\n",
       "      <td>0.133453</td>\n",
       "      <td>0.098291</td>\n",
       "      <td>-0.029129</td>\n",
       "      <td>0.153196</td>\n",
       "      <td>-0.124121</td>\n",
       "      <td>-0.119475</td>\n",
       "      <td>-0.125282</td>\n",
       "    </tr>\n",
       "    <tr>\n",
       "      <th>Medu</th>\n",
       "      <td>-0.130196</td>\n",
       "      <td>1.000000</td>\n",
       "      <td>0.642063</td>\n",
       "      <td>-0.238181</td>\n",
       "      <td>0.090616</td>\n",
       "      <td>-0.187769</td>\n",
       "      <td>0.015004</td>\n",
       "      <td>0.001054</td>\n",
       "      <td>0.025614</td>\n",
       "      <td>0.001515</td>\n",
       "      <td>-0.029331</td>\n",
       "      <td>-0.013254</td>\n",
       "      <td>0.059708</td>\n",
       "      <td>0.226101</td>\n",
       "      <td>0.224662</td>\n",
       "      <td>0.201472</td>\n",
       "    </tr>\n",
       "    <tr>\n",
       "      <th>Fedu</th>\n",
       "      <td>-0.138521</td>\n",
       "      <td>0.642063</td>\n",
       "      <td>1.000000</td>\n",
       "      <td>-0.196328</td>\n",
       "      <td>0.033458</td>\n",
       "      <td>-0.191390</td>\n",
       "      <td>0.013066</td>\n",
       "      <td>0.002142</td>\n",
       "      <td>0.030075</td>\n",
       "      <td>-0.000165</td>\n",
       "      <td>0.019524</td>\n",
       "      <td>0.034288</td>\n",
       "      <td>0.040829</td>\n",
       "      <td>0.195898</td>\n",
       "      <td>0.182634</td>\n",
       "      <td>0.159796</td>\n",
       "    </tr>\n",
       "    <tr>\n",
       "      <th>traveltime</th>\n",
       "      <td>0.049216</td>\n",
       "      <td>-0.238181</td>\n",
       "      <td>-0.196328</td>\n",
       "      <td>1.000000</td>\n",
       "      <td>-0.081328</td>\n",
       "      <td>0.087177</td>\n",
       "      <td>-0.012578</td>\n",
       "      <td>-0.007403</td>\n",
       "      <td>0.049740</td>\n",
       "      <td>0.109423</td>\n",
       "      <td>0.084292</td>\n",
       "      <td>-0.029002</td>\n",
       "      <td>-0.022669</td>\n",
       "      <td>-0.121053</td>\n",
       "      <td>-0.140163</td>\n",
       "      <td>-0.102627</td>\n",
       "    </tr>\n",
       "    <tr>\n",
       "      <th>studytime</th>\n",
       "      <td>-0.007870</td>\n",
       "      <td>0.090616</td>\n",
       "      <td>0.033458</td>\n",
       "      <td>-0.081328</td>\n",
       "      <td>1.000000</td>\n",
       "      <td>-0.152024</td>\n",
       "      <td>0.012324</td>\n",
       "      <td>-0.094429</td>\n",
       "      <td>-0.072941</td>\n",
       "      <td>-0.159665</td>\n",
       "      <td>-0.229073</td>\n",
       "      <td>-0.063044</td>\n",
       "      <td>-0.075594</td>\n",
       "      <td>0.211314</td>\n",
       "      <td>0.183167</td>\n",
       "      <td>0.161629</td>\n",
       "    </tr>\n",
       "  </tbody>\n",
       "</table>\n",
       "</div>"
      ],
      "text/plain": [
       "                 age      Medu      Fedu  traveltime  studytime  failures  \\\n",
       "age         1.000000 -0.130196 -0.138521    0.049216  -0.007870  0.282364   \n",
       "Medu       -0.130196  1.000000  0.642063   -0.238181   0.090616 -0.187769   \n",
       "Fedu       -0.138521  0.642063  1.000000   -0.196328   0.033458 -0.191390   \n",
       "traveltime  0.049216 -0.238181 -0.196328    1.000000  -0.081328  0.087177   \n",
       "studytime  -0.007870  0.090616  0.033458   -0.081328   1.000000 -0.152024   \n",
       "\n",
       "              famrel  freetime     goout      Dalc      Walc    health  \\\n",
       "age         0.007162  0.002645  0.118510  0.133453  0.098291 -0.029129   \n",
       "Medu        0.015004  0.001054  0.025614  0.001515 -0.029331 -0.013254   \n",
       "Fedu        0.013066  0.002142  0.030075 -0.000165  0.019524  0.034288   \n",
       "traveltime -0.012578 -0.007403  0.049740  0.109423  0.084292 -0.029002   \n",
       "studytime   0.012324 -0.094429 -0.072941 -0.159665 -0.229073 -0.063044   \n",
       "\n",
       "            absences        G1        G2        G3  \n",
       "age         0.153196 -0.124121 -0.119475 -0.125282  \n",
       "Medu        0.059708  0.226101  0.224662  0.201472  \n",
       "Fedu        0.040829  0.195898  0.182634  0.159796  \n",
       "traveltime -0.022669 -0.121053 -0.140163 -0.102627  \n",
       "studytime  -0.075594  0.211314  0.183167  0.161629  "
      ]
     },
     "execution_count": 116,
     "metadata": {},
     "output_type": "execute_result"
    }
   ],
   "source": [
    "cm = df.corr()\n",
    "cm.head()"
   ]
  },
  {
   "cell_type": "markdown",
   "metadata": {},
   "source": [
    "Vamos a quedarnos con aquellos pares de variables cuya correlacion supere un umbral seleccionado arbitrariamente."
   ]
  },
  {
   "cell_type": "code",
   "execution_count": 87,
   "metadata": {
    "collapsed": false
   },
   "outputs": [],
   "source": [
    "indices = np.where(np.logical_and(abs(cm)>0.3, cm!=1.0))\n",
    "indices = [(cm.index[x], cm.columns[y], abs(cm.ix[x,y])) for x, y in zip(*indices)\n",
    "                                        if x != y and x < y]"
   ]
  },
  {
   "cell_type": "code",
   "execution_count": 88,
   "metadata": {
    "collapsed": false
   },
   "outputs": [
    {
     "data": {
      "text/plain": [
       "[('freetime', 'goout', 0.32355575258605945),\n",
       " ('failures', 'G1', 0.37417487229128216),\n",
       " ('failures', 'G2', 0.37717217641689932),\n",
       " ('failures', 'G3', 0.38314527971827944),\n",
       " ('goout', 'Walc', 0.39979372589393308),\n",
       " ('Dalc', 'Walc', 0.62781383799009605),\n",
       " ('Medu', 'Fedu', 0.64206314571857515),\n",
       " ('G1', 'G3', 0.80914172054011158),\n",
       " ('G1', 'G2', 0.8587387525170479),\n",
       " ('G2', 'G3', 0.91074316305835523)]"
      ]
     },
     "execution_count": 88,
     "metadata": {},
     "output_type": "execute_result"
    }
   ],
   "source": [
    "indices.sort(key=lambda tup: tup[2])\n",
    "indices"
   ]
  },
  {
   "cell_type": "markdown",
   "metadata": {},
   "source": [
    "Las tres variables más correlacionadas entre sí son las notas de los distintos periodos, siendo mayor el valor para periodos consecutivos (G1-G2 y G2-G3). Tiene sentido pues un buen resultado en examenes previos, es un buen indicativo de que el rendimiento futuro será bueno. \n",
    "\n",
    "Tras esto, parece haber una relación directa entre las profesiones de los padres (Medu, Fedu) que, aunque podría tener sentido, no aporta demasiado al tema que nos concierne.\n",
    "\n",
    "En tercer lugar, nos encontramos con la primera relación interesante entre consumo de alcohol en dias laborales y fines de semana (Dalc, Walc). Podría decirse que un estudiante propenso a consumir alcohol un fin de semana tampoco tiene problemas en hacerlo entre semana. También, en cuarto lugar, observamos una relación directa entre consumo de alcohol en dias laborales y salidas con amigos.\n",
    "\n",
    "Centrándonos únicamente en la relación de la nota final con el resto de las variables:"
   ]
  },
  {
   "cell_type": "code",
   "execution_count": 98,
   "metadata": {
    "collapsed": false
   },
   "outputs": [
    {
     "data": {
      "text/plain": [
       "absences      0.045671\n",
       "famrel        0.054461\n",
       "freetime      0.064890\n",
       "health        0.080079\n",
       "goout         0.097877\n",
       "traveltime    0.102627\n",
       "Walc          0.115740\n",
       "age           0.125282\n",
       "Dalc          0.129642\n",
       "Fedu          0.159796\n",
       "studytime     0.161629\n",
       "Medu          0.201472\n",
       "failures      0.383145\n",
       "G1            0.809142\n",
       "G2            0.910743\n",
       "G3            1.000000\n",
       "Name: G3, dtype: float64"
      ]
     },
     "execution_count": 98,
     "metadata": {},
     "output_type": "execute_result"
    }
   ],
   "source": [
    "abs(cm[\"G3\"]).sort_values()"
   ]
  },
  {
   "cell_type": "markdown",
   "metadata": {},
   "source": [
    "Podemos ver como el número de repeticiones de curso, la profesión de los padres o el tiempo dedicado al estudio afectan más a la nota final que el consumo de alcohol.\n",
    "\n",
    "No obstante, vamos a analizar ahora más en detalle esta relación entre alcohol y notas. Empezaremos observando la relación entre el consumo del alcohol diario y las notas finales obtenidas mediante un boxplot:"
   ]
  },
  {
   "cell_type": "code",
   "execution_count": 92,
   "metadata": {
    "collapsed": false
   },
   "outputs": [
    {
     "data": {
      "text/plain": [
       "<matplotlib.axes._subplots.AxesSubplot at 0x7fa7450854a8>"
      ]
     },
     "execution_count": 92,
     "metadata": {},
     "output_type": "execute_result"
    },
    {
     "data": {
      "image/png": "[encoded data removed]",
      "text/plain": [
       "<matplotlib.figure.Figure at 0x7fa7451f9390>"
      ]
     },
     "metadata": {},
     "output_type": "display_data"
    }
   ],
   "source": [
    "sns.boxplot(x=\"Dalc\", y=\"G3\", data=df)"
   ]
  },
  {
   "cell_type": "markdown",
   "metadata": {},
   "source": [
    "La mediana de la nota final es alta en aquellos estudiantes que reportaron un consumo muy bajo de alcohol entre semana. La nota final de los estudiantes que reportaron consumos de alcohol moderados y altos disminuye, pero no varía excesivamente entre estos grupos.\n",
    "\n",
    "Puede ser interesante observar si la situación es similar con el consumo de alcohol durante fines de semana."
   ]
  },
  {
   "cell_type": "code",
   "execution_count": 93,
   "metadata": {
    "collapsed": false
   },
   "outputs": [
    {
     "data": {
      "text/plain": [
       "<matplotlib.axes._subplots.AxesSubplot at 0x7fa744d19d68>"
      ]
     },
     "execution_count": 93,
     "metadata": {},
     "output_type": "execute_result"
    },
    {
     "data": {
      "image/png": "[encoded data removed]",
      "text/plain": [
       "<matplotlib.figure.Figure at 0x7fa745331cc0>"
      ]
     },
     "metadata": {},
     "output_type": "display_data"
    }
   ],
   "source": [
    "sns.boxplot(x=\"Walc\", y=\"G3\", data=df)"
   ]
  },
  {
   "cell_type": "markdown",
   "metadata": {},
   "source": [
    "En este caso, parece que la nota final solo se ve significantemente afectada en consumos de alcohol altos y muy altos durante los fines de semana. \n",
    "\n",
    "Podemos observar una situación parecida a la previa (pero inversa) entre el consumo de alcohol entre semana o fines de semana y el número de ausencias a clase: "
   ]
  },
  {
   "cell_type": "code",
   "execution_count": 107,
   "metadata": {
    "collapsed": false
   },
   "outputs": [
    {
     "data": {
      "text/plain": [
       "<matplotlib.axes._subplots.AxesSubplot at 0x7fa744c18ef0>"
      ]
     },
     "execution_count": 107,
     "metadata": {},
     "output_type": "execute_result"
    },
    {
     "data": {
      "image/png": "[encoded data removed]",
      "text/plain": [
       "<matplotlib.figure.Figure at 0x7fa7449b7c50>"
      ]
     },
     "metadata": {},
     "output_type": "display_data"
    }
   ],
   "source": [
    "sns.boxplot(x=\"Dalc\", y=\"absences\", data=df)"
   ]
  },
  {
   "cell_type": "code",
   "execution_count": 106,
   "metadata": {
    "collapsed": false
   },
   "outputs": [
    {
     "data": {
      "text/plain": [
       "<matplotlib.axes._subplots.AxesSubplot at 0x7fa7446c3048>"
      ]
     },
     "execution_count": 106,
     "metadata": {},
     "output_type": "execute_result"
    },
    {
     "data": {
      "image/png": "[encoded data removed]",
      "text/plain": [
       "<matplotlib.figure.Figure at 0x7fa744be7c18>"
      ]
     },
     "metadata": {},
     "output_type": "display_data"
    }
   ],
   "source": [
    "sns.boxplot(x=\"Walc\", y=\"absences\", data=df)"
   ]
  },
  {
   "cell_type": "markdown",
   "metadata": {},
   "source": [
    "Otra manera de detectar grupos de variables relaciondas, es aplicar PCA y observar que variables aportan más peso a cada uno de los componentes que se han generado."
   ]
  },
  {
   "cell_type": "code",
   "execution_count": 178,
   "metadata": {
    "collapsed": false
   },
   "outputs": [
    {
     "data": {
      "text/plain": [
       "PCA(copy=True, iterated_power='auto', n_components=3, random_state=None,\n",
       "  svd_solver='auto', tol=0.0, whiten=False)"
      ]
     },
     "execution_count": 178,
     "metadata": {},
     "output_type": "execute_result"
    }
   ],
   "source": [
    "from sklearn import decomposition\n",
    "df_num = df.select_dtypes(include=['int64'])\n",
    "pca = decomposition.PCA(n_components=3)\n",
    "pca.fit(df_num)"
   ]
  },
  {
   "cell_type": "code",
   "execution_count": 179,
   "metadata": {
    "collapsed": false
   },
   "outputs": [
    {
     "name": "stdout",
     "output_type": "stream",
     "text": [
      "1. Feature absences (0.942051)\n",
      "2. Feature age (0.037423)\n",
      "3. Feature Walc (0.037056)\n",
      "4. Feature Dalc (0.025510)\n",
      "5. Feature failures (0.022499)\n",
      "\n",
      "\n",
      "1. Feature G3 (0.631504)\n",
      "2. Feature G2 (0.527941)\n",
      "3. Feature G1 (0.449612)\n",
      "4. Feature absences (0.330399)\n",
      "5. Feature Medu (0.051038)\n",
      "\n",
      "\n",
      "1. Feature Walc (0.668068)\n",
      "2. Feature goout (0.457180)\n",
      "3. Feature Dalc (0.372414)\n",
      "4. Feature health (0.280188)\n",
      "5. Feature freetime (0.246772)\n",
      "\n",
      "\n"
     ]
    }
   ],
   "source": [
    "for i in pca.components_:\n",
    "    indices = np.argsort(i)[::-1]\n",
    "    for f in range(5):\n",
    "        print(\"%d. Feature %s (%f)\" % (f + 1, df_num.columns.values[indices[f]], i[indices[f]]))\n",
    "    print(\"\\n\")"
   ]
  },
  {
   "cell_type": "markdown",
   "metadata": {},
   "source": [
    "En la primera componente, solo la variable que mide las ausencias aporta un peso significativo. En el segundo grupo, las variables de resultados (G1,G2,G3) y ausencias a clase parecen estar relaciondas entre sí. Finalmente, en el último grupo parece haber un cluster de variables relacionadas con el consumo de alcohol, ocio y salud."
   ]
  },
  {
   "cell_type": "markdown",
   "metadata": {},
   "source": [
    "# Predicción de valores objetivo"
   ]
  },
  {
   "cell_type": "markdown",
   "metadata": {},
   "source": [
    "Para entrenar el modelo que nos permita predecir el aprobado o suspenso, primero construiremos nuestro conjunto de entrenamiento a partir de los datos proporcionados.\n",
    "\n",
    "En primer lugar, copiamos el dataset original en X borrando aquellas variables que vamos a predecir para que no afecten al resultado (data leaking). También, extraemos a otra variable Y el vector de nuestro valor objetivo."
   ]
  },
  {
   "cell_type": "code",
   "execution_count": 75,
   "metadata": {
    "collapsed": false
   },
   "outputs": [],
   "source": [
    "df['passed'] = df['G3'].apply(lambda x: 1 if x>=10 else 0)\n",
    "X = df.drop(['G1','G2','G3','passed', 'course'],axis=1)\n",
    "Y = df['passed']"
   ]
  },
  {
   "cell_type": "markdown",
   "metadata": {},
   "source": [
    "A continuación, convertimos a entero aquellas variables categóricas y las añadimos a X."
   ]
  },
  {
   "cell_type": "code",
   "execution_count": 76,
   "metadata": {
    "collapsed": false
   },
   "outputs": [],
   "source": [
    "binaryYesNo = {'yes': 1, 'no': 0}\n",
    "school_map  = {'MS': 1, 'GP': 0}\n",
    "sex_map     = {'M': 1, 'F': 0}\n",
    "address_map = {'R':1, 'U':0}\n",
    "famsize_map = {'LE3':1, 'GT3':0}\n",
    "pstatus_map = {'A':1, 'T':0}\n",
    "mjob_map    = {'services' : 1, \n",
    "            'health' : 2, \n",
    "            'other' : 3, \n",
    "            'at_home' : 4, \n",
    "            'teacher' : 5}\n",
    "\n",
    "fjob_map    = {'services' : 1, \n",
    "            'health' : 2, \n",
    "            'other' : 3, \n",
    "            'at_home' : 4, \n",
    "            'teacher' : 5}\n",
    "\n",
    "reason_map   = {'course':1, 'other':2, 'reputation':3, 'home':4}\n",
    "guardian_map = {'other':0, 'father':1, 'mother':1}\n",
    "\n",
    "X.schoolsup  = X.schoolsup.map(binaryYesNo)\n",
    "X.famsup     = X.famsup.map(binaryYesNo)\n",
    "X.paid       = X.paid.map(binaryYesNo)\n",
    "X.activities = X.activities.map(binaryYesNo)\n",
    "X.nursery    = X.nursery.map(binaryYesNo)\n",
    "X.higher     = X.higher.map(binaryYesNo)\n",
    "X.internet   = X.internet.map(binaryYesNo)\n",
    "X.romantic   = X.romantic.map(binaryYesNo)\n",
    "\n",
    "X.school   = X.school.map(school_map)\n",
    "X.sex      = X.sex.map(sex_map)\n",
    "X.address  = X.address.map(address_map)\n",
    "X.famsize  = X.famsize.map(famsize_map)\n",
    "X.Pstatus  = X.Pstatus.map(pstatus_map)\n",
    "X.Mjob     = X.Mjob.map(mjob_map)\n",
    "X.Fjob     = X.Fjob.map(fjob_map)\n",
    "X.reason   = X.reason.map(reason_map)\n",
    "X.guardian = X.guardian.map(guardian_map)"
   ]
  },
  {
   "cell_type": "markdown",
   "metadata": {},
   "source": [
    "Antes de nada, vamos a generar un holdout set sobre el que calcularemos el error del modelo final y que nos permitirá minimizar el overfitting. El entrenamiento y refinamiento de los modelos intermedios se realizará sobre el training set."
   ]
  },
  {
   "cell_type": "code",
   "execution_count": 77,
   "metadata": {
    "collapsed": true
   },
   "outputs": [],
   "source": [
    "Xtrain, Xtest, ytrain, ytest = train_test_split(X, Y, test_size=0.25)"
   ]
  },
  {
   "cell_type": "markdown",
   "metadata": {},
   "source": [
    "A continuación, vamos a realizar una prueba rápida para tener una idea del rendimiento baseline que dispondremos. Para ello, usaremos los algoritmos de Logistic Regression, Random Forest, SVM y GBM, y calcularemos la media arimética de cada uno de los 5 folds de cross-validation. Usaremos como medida de la precisión de los modelos el f1-score ya que es más robusto que simplemente la precisión para problemas de clasificación binaria."
   ]
  },
  {
   "cell_type": "code",
   "execution_count": 147,
   "metadata": {
    "collapsed": true
   },
   "outputs": [],
   "source": [
    "from sklearn.linear_model import LogisticRegression\n",
    "from sklearn.ensemble import RandomForestClassifier, GradientBoostingClassifier\n",
    "from sklearn.svm import SVC\n",
    "from sklearn.model_selection import cross_val_score, train_test_split, GridSearchCV\n",
    "from sklearn.metrics import f1_score, accuracy_score, cohen_kappa_score, roc_auc_score"
   ]
  },
  {
   "cell_type": "code",
   "execution_count": 151,
   "metadata": {
    "collapsed": false
   },
   "outputs": [
    {
     "data": {
      "text/plain": [
       "0.88346806608733996"
      ]
     },
     "execution_count": 151,
     "metadata": {},
     "output_type": "execute_result"
    }
   ],
   "source": [
    "cross_val_score(LogisticRegression(), Xtrain, ytrain, cv=5,scoring='f1').mean()"
   ]
  },
  {
   "cell_type": "code",
   "execution_count": 102,
   "metadata": {
    "collapsed": false
   },
   "outputs": [
    {
     "data": {
      "text/plain": [
       "0.85811524598099731"
      ]
     },
     "execution_count": 102,
     "metadata": {},
     "output_type": "execute_result"
    }
   ],
   "source": [
    "cross_val_score(RandomForestClassifier(random_state=0), Xtrain, ytrain, cv=5,scoring='f1').mean()"
   ]
  },
  {
   "cell_type": "code",
   "execution_count": 104,
   "metadata": {
    "collapsed": false
   },
   "outputs": [
    {
     "data": {
      "text/plain": [
       "0.88009690713838307"
      ]
     },
     "execution_count": 104,
     "metadata": {},
     "output_type": "execute_result"
    }
   ],
   "source": [
    "cross_val_score(GradientBoostingClassifier(random_state=0), Xtrain, ytrain, cv=5,scoring='f1').mean()"
   ]
  },
  {
   "cell_type": "code",
   "execution_count": 107,
   "metadata": {
    "collapsed": false
   },
   "outputs": [
    {
     "data": {
      "text/plain": [
       "0.88103413656181184"
      ]
     },
     "execution_count": 107,
     "metadata": {},
     "output_type": "execute_result"
    }
   ],
   "source": [
    "cross_val_score(SVC(), Xtrain, ytrain, cv=5,scoring='f1').mean()"
   ]
  },
  {
   "cell_type": "markdown",
   "metadata": {},
   "source": [
    "Los primeros resultados con los parámetros por defecto no parecen ser muy alentadores. A continuación, probamos optimizando los hiper-parámetros para cada uno de los modelos."
   ]
  },
  {
   "cell_type": "code",
   "execution_count": 123,
   "metadata": {
    "collapsed": true
   },
   "outputs": [],
   "source": [
    "def hyper_tunning(model,param):\n",
    "    clf = GridSearchCV(model, param, n_jobs=-1, cv=5, scoring='f1')\n",
    "    clf.fit(Xtrain, ytrain)\n",
    "    print(\"Best params \"+str(clf.best_params_))\n",
    "    print(\"Best score \"+str(clf.best_score_))\n",
    "    return clf.best_estimator_"
   ]
  },
  {
   "cell_type": "code",
   "execution_count": 124,
   "metadata": {
    "collapsed": false
   },
   "outputs": [
    {
     "name": "stdout",
     "output_type": "stream",
     "text": [
      "Best params {'penalty': 'l1', 'C': 0.1}\n",
      "Best score 0.886548343886\n"
     ]
    }
   ],
   "source": [
    "logistic = LogisticRegression()\n",
    "param_grid = {\n",
    "    \"penalty\": ['l1','l2'],\n",
    "    \"C\": [0.001, 0.01, 0.1, 1, 10, 100, 1000]\n",
    "}\n",
    "logistic = hyper_tunning(logistic,param_grid)"
   ]
  },
  {
   "cell_type": "code",
   "execution_count": 125,
   "metadata": {
    "collapsed": false
   },
   "outputs": [
    {
     "name": "stdout",
     "output_type": "stream",
     "text": [
      "Best params {'bootstrap': True, 'max_depth': 10, 'n_estimators': 250, 'criterion': 'gini', 'min_samples_split': 5, 'max_features': 3}\n",
      "Best score 0.892879457372\n"
     ]
    }
   ],
   "source": [
    "rf = RandomForestClassifier()\n",
    "param_grid = { \n",
    "    \"n_estimators\"      : [200, 250],\n",
    "    \"criterion\"         : [\"gini\", \"entropy\"],\n",
    "    \"max_features\"      : [2, 3, 4],\n",
    "    \"max_depth\"         : [9, 10, 11],\n",
    "    \"min_samples_split\" : [3, 4, 5] ,\n",
    "    \"bootstrap\": [True, False]\n",
    "}\n",
    "rf = hyper_tunning(rf,param_grid)"
   ]
  },
  {
   "cell_type": "code",
   "execution_count": 126,
   "metadata": {
    "collapsed": false
   },
   "outputs": [
    {
     "name": "stdout",
     "output_type": "stream",
     "text": [
      "Best params {'min_samples_split': 50, 'max_depth': 6, 'min_samples_leaf': 7, 'max_features': 3}\n",
      "Best score 0.889245573367\n"
     ]
    }
   ],
   "source": [
    "gbm = GradientBoostingClassifier()\n",
    "param_grid = {\n",
    "    \"max_depth\":[6,8], \n",
    "    \"min_samples_split\":[50,100,150],\n",
    "    \"min_samples_leaf\": [7,8,9],\n",
    "    \"max_features\":[2,3]\n",
    "}\n",
    "gbm = hyper_tunning(gbm,param_grid)"
   ]
  },
  {
   "cell_type": "code",
   "execution_count": 127,
   "metadata": {
    "collapsed": false
   },
   "outputs": [
    {
     "name": "stdout",
     "output_type": "stream",
     "text": [
      "Best params {'kernel': 'linear', 'C': 10}\n",
      "Best score 0.891473807717\n"
     ]
    }
   ],
   "source": [
    "svc = SVC()\n",
    "param_grid = {\n",
    "    \"C\": [0.001, 0.01, 0.1, 1, 10, 100, 1000],\n",
    "    \"kernel\": [\"rbf\", \"poly\", \"linear\"]\n",
    "}\n",
    "svc = hyper_tunning(svc,param_grid)"
   ]
  },
  {
   "cell_type": "markdown",
   "metadata": {},
   "source": [
    "La situación no ha mejorado en exceso incluso con parámetros más optimos. De cara a mejorar el rendimiento en el futuro, se podrían probar los siguientes escenarios:\n",
    "* normalizar o discretizar algunas variables númericas (absences o age)\n",
    "* aplicar one-hot encoding a variables categóricas\n",
    "* incluir alguna componente del PCA presentado previamente\n",
    "* detección y eliminación de outliers en el conjunto de datos\n",
    "\n",
    "Finalmente, evaluamos el mejor modelo entrenado previamente sobre nuestro holdout set."
   ]
  },
  {
   "cell_type": "code",
   "execution_count": 139,
   "metadata": {
    "collapsed": false
   },
   "outputs": [
    {
     "data": {
      "text/plain": [
       "0.88248337028824841"
      ]
     },
     "execution_count": 139,
     "metadata": {},
     "output_type": "execute_result"
    }
   ],
   "source": [
    "f1_score(ytest, rf.predict(Xtest))"
   ]
  },
  {
   "cell_type": "code",
   "execution_count": 148,
   "metadata": {
    "collapsed": false
   },
   "outputs": [
    {
     "data": {
      "text/plain": [
       "0.56669246646026838"
      ]
     },
     "execution_count": 148,
     "metadata": {},
     "output_type": "execute_result"
    }
   ],
   "source": [
    "roc_auc_score(ytest, rf.predict(Xtest))"
   ]
  },
  {
   "cell_type": "code",
   "execution_count": 144,
   "metadata": {
    "collapsed": false
   },
   "outputs": [
    {
     "data": {
      "text/plain": [
       "0.79693486590038309"
      ]
     },
     "execution_count": 144,
     "metadata": {},
     "output_type": "execute_result"
    }
   ],
   "source": [
    "accuracy_score(ytest, rf.predict(Xtest))"
   ]
  },
  {
   "cell_type": "markdown",
   "metadata": {},
   "source": [
    "Una de las ventajas de los random forest es que nos permiten ver la importancia de cada una de las variables a la hora de predecir el resultado final."
   ]
  },
  {
   "cell_type": "code",
   "execution_count": 153,
   "metadata": {
    "collapsed": false
   },
   "outputs": [
    {
     "name": "stdout",
     "output_type": "stream",
     "text": [
      "1. Feature failures (0.129859)\n",
      "2. Feature absences (0.084863)\n",
      "3. Feature higher (0.047277)\n",
      "4. Feature age (0.046745)\n",
      "5. Feature Walc (0.046127)\n"
     ]
    }
   ],
   "source": [
    "importances = rf.feature_importances_\n",
    "indices = np.argsort(importances)[::-1]\n",
    "for f in range(5):\n",
    "    print(\"%d. Feature %s (%f)\" % (f + 1, Xtrain.columns.values[indices[f]], importances[indices[f]]))"
   ]
  },
  {
   "cell_type": "markdown",
   "metadata": {},
   "source": [
    "Entre las 5 primeras variables nos encontramos que las veces que ha repetido el alumno la clase es con diferencia la más importante seguido del número de ausencias a clase."
   ]
  }
 ],
 "metadata": {
  "kernelspec": {
   "display_name": "Python 3",
   "language": "python",
   "name": "python3"
  },
  "language_info": {
   "codemirror_mode": {
    "name": "ipython",
    "version": 3
   },
   "file_extension": ".py",
   "mimetype": "text/x-python",
   "name": "python",
   "nbconvert_exporter": "python",
   "pygments_lexer": "ipython3",
   "version": "3.5.2"
  }
 },
 "nbformat": 4,
 "nbformat_minor": 2
}
